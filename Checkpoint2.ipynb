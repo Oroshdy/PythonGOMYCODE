{
 "cells": [
  {
   "cell_type": "code",
   "execution_count": 1,
   "id": "35f17b55",
   "metadata": {},
   "outputs": [
    {
     "name": "stdout",
     "output_type": "stream",
     "text": [
      "3\n",
      "369\n"
     ]
    }
   ],
   "source": [
    "x = input()\n",
    "y = 2*x\n",
    "z = 3*x\n",
    "d=(int(x)+int(y)+int(z))\n",
    "\n",
    "print(d)\n",
    "\n",
    "\n",
    "\n",
    "\n"
   ]
  },
  {
   "cell_type": "code",
   "execution_count": 4,
   "id": "4873473f",
   "metadata": {},
   "outputs": [
    {
     "name": "stdout",
     "output_type": "stream",
     "text": [
      "3\n",
      "odd\n"
     ]
    }
   ],
   "source": [
    "x = int(input())\n",
    "if (x % 2) == 0:\n",
    "    print (\"even\")\n",
    "else:\n",
    "    print (\"odd\")\n",
    "    "
   ]
  },
  {
   "cell_type": "code",
   "execution_count": 27,
   "id": "c8fb971f",
   "metadata": {},
   "outputs": [
    {
     "name": "stdout",
     "output_type": "stream",
     "text": [
      "2002,2009,2016,2023,2037,2044,2051,2058,2072,2079,2086,2093,2107,2114,2121,2128,2142,2149,2156,2163,2177,2184,2191,2198,2212,2219,2226,2233,2247,2254,2261,2268,2282,2289,2296,2303,2317,2324,2331,2338,2352,2359,2366,2373,2387,2394,2401,2408,2422,2429,2436,2443,2457,2464,2471,2478,2492,2499,2506,2513,2527,2534,2541,2548,2562,2569,2576,2583,2597,2604,2611,2618,2632,2639,2646,2653,2667,2674,2681,2688,2702,2709,2716,2723,2737,2744,2751,2758,2772,2779,2786,2793,2807,2814,2821,2828,2842,2849,2856,2863,2877,2884,2891,2898,2912,2919,2926,2933,2947,2954,2961,2968,2982,2989,2996,3003,3017,3024,3031,3038,3052,3059,3066,3073,3087,3094,3101,3108,3122,3129,3136,3143,3157,3164,3171,3178,3192,3199,"
     ]
    }
   ],
   "source": [
    "x = range(2000,3200)\n",
    "for i in x :\n",
    "    if i%7==0 and i%5!=0 :\n",
    "        print (i,end=\",\")"
   ]
  },
  {
   "cell_type": "code",
   "execution_count": 51,
   "id": "3afd8c01",
   "metadata": {},
   "outputs": [
    {
     "name": "stdout",
     "output_type": "stream",
     "text": [
      "8\n",
      "40320\n"
     ]
    }
   ],
   "source": [
    "x=int(input())\n",
    "y=1\n",
    "for i in range(1,x+1) :\n",
    "    y=y*i\n",
    "print (y)"
   ]
  },
  {
   "cell_type": "code",
   "execution_count": 1,
   "id": "956819e0",
   "metadata": {},
   "outputs": [
    {
     "name": "stdout",
     "output_type": "stream",
     "text": [
      "Hello Team\n",
      "HloTa"
     ]
    }
   ],
   "source": [
    "x=input()\n",
    "for i in range(0,len(x)):\n",
    "    if (i%2!=1):\n",
    "        print(x[i],end=\"\")\n",
    "    "
   ]
  },
  {
   "cell_type": "code",
   "execution_count": 8,
   "id": "82592d90",
   "metadata": {},
   "outputs": [
    {
     "name": "stdout",
     "output_type": "stream",
     "text": [
      "Pick an Item:100\n",
      "you got 10% discout 90.0\n"
     ]
    }
   ],
   "source": [
    "x=int(input(\"Pick an Item:\"))\n",
    "if (x >= 500):\n",
    "    x=x*0.5\n",
    "    print (\"you got 50% discount \",x)\n",
    "elif 200<=x and x<500 :\n",
    "    x=x*0.7\n",
    "    print (\"you got 30% discount\",x)\n",
    "elif x<200:\n",
    "    x=x*0.9\n",
    "    print (\"you got 10% discout\",x)\n",
    "    \n",
    "         "
   ]
  },
  {
   "cell_type": "code",
   "execution_count": null,
   "id": "995c5302",
   "metadata": {},
   "outputs": [],
   "source": []
  },
  {
   "cell_type": "code",
   "execution_count": null,
   "id": "c07405f3",
   "metadata": {},
   "outputs": [],
   "source": []
  }
 ],
 "metadata": {
  "kernelspec": {
   "display_name": "Python 3",
   "language": "python",
   "name": "python3"
  },
  "language_info": {
   "codemirror_mode": {
    "name": "ipython",
    "version": 3
   },
   "file_extension": ".py",
   "mimetype": "text/x-python",
   "name": "python",
   "nbconvert_exporter": "python",
   "pygments_lexer": "ipython3",
   "version": "3.8.8"
  }
 },
 "nbformat": 4,
 "nbformat_minor": 5
}
